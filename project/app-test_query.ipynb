{
 "cells": [
  {
   "cell_type": "code",
   "execution_count": 1,
   "metadata": {},
   "outputs": [],
   "source": [
    "from modules.sql_generator import SQLQueryGenerator"
   ]
  },
  {
   "cell_type": "code",
   "execution_count": 2,
   "metadata": {},
   "outputs": [
    {
     "name": "stderr",
     "output_type": "stream",
     "text": [
      "2025-02-15 17:44:11,536 - [INFO] [Query Generator] Fetching table definitions from the database...\n",
      "2025-02-15 17:44:13,478 - [INFO] [Prompt Render] Loading prompt file...\n",
      "2025-02-15 17:44:13,479 - [INFO] [Prompt Loader] Checking file path: ./prompts/llama-3-sqlcoder-8b-Q8_0/system_prompt.txt\n",
      "2025-02-15 17:44:13,480 - [INFO] [Prompt Render] Prompt rendered: You are an expert in SQL Query. Your Task consists of translating/transforming the users question into an SQL query.\n",
      "\n",
      "The query will run on a database with the following schema:\n",
      "TABLE: continents\n",
      "  - code: character, example 'AF' - Column description: None\n",
      "  - name: character varying, example 'Africa' - Column description: None\n",
      "TABLE: countries\n",
      "  - code: character, example 'AF' - Column description: None\n",
      "  - continent_code: character, example 'AS' - Column description: None\n",
      "  - name: character varying, example 'Afghanistan' - Column description: None\n",
      "  - iso3: character, example 'AFG' - Column description: None\n",
      "  - number: character, example '004' - Column description: None\n",
      "  - full_name: character varying, example 'Islamic Republic of Afghanistan' - Column description: None\n",
      "TABLE: market_mapping\n",
      "  - market: character varying, example 'DE' - Column description: None\n",
      "  - market_des: character varying, example 'GERMANY' - Column description: None\n",
      "  - cluster: character varying, example 'GERMANY' - Column description: The cluster within a region to which a market belongs (e.g., SOUTH)\n",
      "  - region: character varying, example 'EUROPE' - Column description: None\n",
      "TABLE: monthly_balance\n",
      "  - month: character varying, example '202101' - Column description: The month of the sales data, formatted as YYYYMM\n",
      "  - market: character varying, example 'ES' - Column description: The id of the country representing the market (e.g., US, DE, IT)\n",
      "  - bu: character varying, example 'GN_BP' - Column description: The bussiness unit identifier (GN_BP for biosimilars, GN_RE for retail)\n",
      "  - volume: numeric, example '693063.00' - Column description: The volume of sales in the specified month, region, market, and business unit\n",
      "  - value: numeric, example '716445.67' - Column description: The monetary value of sales (net) in the specified month, region, market, and business unit\n",
      "TABLE: monthly_lo\n",
      "  - month: character varying, example '202101' - Column description: The month of the sales data, formatted as YYYYMM\n",
      "  - market: character varying, example 'ES' - Column description: The id of the country representing the market (e.g., US, DE, IT)\n",
      "  - bu: character varying, example 'GN_BP' - Column description: The bussiness unit identifier (GN_BP for biosimilars, GN_RE for retail)\n",
      "  - value: numeric, example '547834.96' - Column description: The planned monetary value of sales (net) in the specified month, region, market, and business unit\n",
      "\n",
      "Relationships between tables (Foreign Keys):\n",
      "  - fk_countries_continents: countries(continent_code) -> continents(code)\n",
      "  - fk_mapping_countries: market_mapping(market) -> countries(code)\n",
      "  - fk_market: monthly_balance(market) -> market_mapping(market)\n",
      "  - fk_market: monthly_balance(market) -> market_mapping(market)\n",
      "  - fk_market: monthly_balance(market) -> market_mapping(market)\n",
      "  - fk_market: monthly_balance(market) -> market_mapping(market)\n",
      "  - fk_market: monthly_lo(market) -> market_mapping(market)\n",
      "  - fk_market: monthly_lo(market) -> market_mapping(market)\n",
      "  - fk_market: monthly_lo(market) -> market_mapping(market)\n",
      "  - fk_market: monthly_lo(market) -> market_mapping(market)\n",
      "2025-02-15 17:44:13,481 - [INFO] [LLM Handler] Starting model: llama-cli --model ./models/gguf/llama-3-sqlcoder-8b-Q8_0.gguf --n_gpu_layers 16 --flash-attn --interactive --interactive-first --multiline-input --ctx-size 4096 --temp 0 --top_p 0.95 -no-cnv --keep -1 -p <|start_header_id|>system<|end_header_id|> You are an expert in SQL Query. Your Task consists of translating/transforming the users question into an SQL query.\n",
      "\n",
      "The query will run on a database with the following schema:\n",
      "TABLE: continents\n",
      "  - code: character, example 'AF' - Column description: None\n",
      "  - name: character varying, example 'Africa' - Column description: None\n",
      "TABLE: countries\n",
      "  - code: character, example 'AF' - Column description: None\n",
      "  - continent_code: character, example 'AS' - Column description: None\n",
      "  - name: character varying, example 'Afghanistan' - Column description: None\n",
      "  - iso3: character, example 'AFG' - Column description: None\n",
      "  - number: character, example '004' - Column description: None\n",
      "  - full_name: character varying, example 'Islamic Republic of Afghanistan' - Column description: None\n",
      "TABLE: market_mapping\n",
      "  - market: character varying, example 'DE' - Column description: None\n",
      "  - market_des: character varying, example 'GERMANY' - Column description: None\n",
      "  - cluster: character varying, example 'GERMANY' - Column description: The cluster within a region to which a market belongs (e.g., SOUTH)\n",
      "  - region: character varying, example 'EUROPE' - Column description: None\n",
      "TABLE: monthly_balance\n",
      "  - month: character varying, example '202101' - Column description: The month of the sales data, formatted as YYYYMM\n",
      "  - market: character varying, example 'ES' - Column description: The id of the country representing the market (e.g., US, DE, IT)\n",
      "  - bu: character varying, example 'GN_BP' - Column description: The bussiness unit identifier (GN_BP for biosimilars, GN_RE for retail)\n",
      "  - volume: numeric, example '693063.00' - Column description: The volume of sales in the specified month, region, market, and business unit\n",
      "  - value: numeric, example '716445.67' - Column description: The monetary value of sales (net) in the specified month, region, market, and business unit\n",
      "TABLE: monthly_lo\n",
      "  - month: character varying, example '202101' - Column description: The month of the sales data, formatted as YYYYMM\n",
      "  - market: character varying, example 'ES' - Column description: The id of the country representing the market (e.g., US, DE, IT)\n",
      "  - bu: character varying, example 'GN_BP' - Column description: The bussiness unit identifier (GN_BP for biosimilars, GN_RE for retail)\n",
      "  - value: numeric, example '547834.96' - Column description: The planned monetary value of sales (net) in the specified month, region, market, and business unit\n",
      "\n",
      "Relationships between tables (Foreign Keys):\n",
      "  - fk_countries_continents: countries(continent_code) -> continents(code)\n",
      "  - fk_mapping_countries: market_mapping(market) -> countries(code)\n",
      "  - fk_market: monthly_balance(market) -> market_mapping(market)\n",
      "  - fk_market: monthly_balance(market) -> market_mapping(market)\n",
      "  - fk_market: monthly_balance(market) -> market_mapping(market)\n",
      "  - fk_market: monthly_balance(market) -> market_mapping(market)\n",
      "  - fk_market: monthly_lo(market) -> market_mapping(market)\n",
      "  - fk_market: monthly_lo(market) -> market_mapping(market)\n",
      "  - fk_market: monthly_lo(market) -> market_mapping(market)\n",
      "  - fk_market: monthly_lo(market) -> market_mapping(market)<|eot_id|> --in-suffix <|start_header_id|>assistant<|end_header_id|>\n",
      "\n",
      " -sp\n",
      "2025-02-15 17:44:13,751 - [DEBUG] [LLM Handler] [llama.cpp >] ggml_cuda_init: GGML_CUDA_FORCE_MMQ:    no\n",
      "2025-02-15 17:44:13,752 - [DEBUG] [LLM Handler] [llama.cpp >] ggml_cuda_init: GGML_CUDA_FORCE_CUBLAS: no\n",
      "2025-02-15 17:44:13,752 - [DEBUG] [LLM Handler] [llama.cpp >] ggml_cuda_init: found 1 CUDA devices:\n",
      "2025-02-15 17:44:13,753 - [DEBUG] [LLM Handler] [llama.cpp >] Device 0: NVIDIA GeForce RTX 3070, compute capability 8.6, VMM: yes\n",
      "2025-02-15 17:44:13,754 - [DEBUG] [LLM Handler] [llama.cpp >] build: 4687 (b9ab0a4d) with cc (Ubuntu 11.4.0-1ubuntu1~22.04) 11.4.0 for x86_64-linux-gnu\n",
      "2025-02-15 17:44:13,754 - [DEBUG] [LLM Handler] [llama.cpp >] main: llama backend init\n",
      "2025-02-15 17:44:13,755 - [DEBUG] [LLM Handler] [llama.cpp >] main: load the model and apply lora adapter, if any\n",
      "2025-02-15 17:44:13,899 - [DEBUG] [LLM Handler] [llama.cpp >] llama_model_load_from_file_impl: using device CUDA0 (NVIDIA GeForce RTX 3070) - 7100 MiB free\n",
      "2025-02-15 17:44:13,936 - [DEBUG] [LLM Handler] [llama.cpp >] llama_model_loader: loaded meta data with 22 key-value pairs and 291 tensors from ./models/gguf/llama-3-sqlcoder-8b-Q8_0.gguf (version GGUF V3 (latest))\n",
      "2025-02-15 17:44:13,936 - [DEBUG] [LLM Handler] [llama.cpp >] llama_model_loader: Dumping metadata keys/values. Note: KV overrides do not apply in this output.\n",
      "2025-02-15 17:44:13,937 - [DEBUG] [LLM Handler] [llama.cpp >] llama_model_loader: - kv   0:                       general.architecture str              = llama\n",
      "2025-02-15 17:44:13,937 - [DEBUG] [LLM Handler] [llama.cpp >] llama_model_loader: - kv   1:                               general.name str              = models\n",
      "2025-02-15 17:44:13,937 - [DEBUG] [LLM Handler] [llama.cpp >] llama_model_loader: - kv   2:                          llama.block_count u32              = 32\n",
      "2025-02-15 17:44:13,938 - [DEBUG] [LLM Handler] [llama.cpp >] llama_model_loader: - kv   3:                       llama.context_length u32              = 8192\n",
      "2025-02-15 17:44:13,938 - [DEBUG] [LLM Handler] [llama.cpp >] llama_model_loader: - kv   4:                     llama.embedding_length u32              = 4096\n",
      "2025-02-15 17:44:13,938 - [DEBUG] [LLM Handler] [llama.cpp >] llama_model_loader: - kv   5:                  llama.feed_forward_length u32              = 14336\n",
      "2025-02-15 17:44:13,939 - [DEBUG] [LLM Handler] [llama.cpp >] llama_model_loader: - kv   6:                 llama.attention.head_count u32              = 32\n",
      "2025-02-15 17:44:13,939 - [DEBUG] [LLM Handler] [llama.cpp >] llama_model_loader: - kv   7:              llama.attention.head_count_kv u32              = 8\n",
      "2025-02-15 17:44:13,940 - [DEBUG] [LLM Handler] [llama.cpp >] llama_model_loader: - kv   8:                       llama.rope.freq_base f32              = 500000.000000\n",
      "2025-02-15 17:44:13,941 - [DEBUG] [LLM Handler] [llama.cpp >] llama_model_loader: - kv   9:     llama.attention.layer_norm_rms_epsilon f32              = 0.000010\n",
      "2025-02-15 17:44:13,941 - [DEBUG] [LLM Handler] [llama.cpp >] llama_model_loader: - kv  10:                          general.file_type u32              = 7\n",
      "2025-02-15 17:44:13,942 - [DEBUG] [LLM Handler] [llama.cpp >] llama_model_loader: - kv  11:                           llama.vocab_size u32              = 128256\n",
      "2025-02-15 17:44:13,942 - [DEBUG] [LLM Handler] [llama.cpp >] llama_model_loader: - kv  12:                 llama.rope.dimension_count u32              = 128\n",
      "2025-02-15 17:44:13,943 - [DEBUG] [LLM Handler] [llama.cpp >] llama_model_loader: - kv  13:                       tokenizer.ggml.model str              = gpt2\n",
      "2025-02-15 17:44:13,943 - [DEBUG] [LLM Handler] [llama.cpp >] llama_model_loader: - kv  14:                         tokenizer.ggml.pre str              = llama-bpe\n",
      "2025-02-15 17:44:13,954 - [DEBUG] [LLM Handler] [llama.cpp >] llama_model_loader: - kv  15:                      tokenizer.ggml.tokens arr[str,128256]  = [\"!\", \"\\\"\", \"#\", \"$\", \"%\", \"&\", \"'\", ...\n",
      "2025-02-15 17:44:13,958 - [DEBUG] [LLM Handler] [llama.cpp >] llama_model_loader: - kv  16:                  tokenizer.ggml.token_type arr[i32,128256]  = [1, 1, 1, 1, 1, 1, 1, 1, 1, 1, 1, 1, ...\n",
      "2025-02-15 17:44:13,986 - [DEBUG] [LLM Handler] [llama.cpp >] llama_model_loader: - kv  17:                      tokenizer.ggml.merges arr[str,280147]  = [\"Ġ Ġ\", \"Ġ ĠĠĠ\", \"ĠĠ ĠĠ\", \"...\n",
      "2025-02-15 17:44:13,986 - [DEBUG] [LLM Handler] [llama.cpp >] llama_model_loader: - kv  18:                tokenizer.ggml.bos_token_id u32              = 128000\n",
      "2025-02-15 17:44:13,987 - [DEBUG] [LLM Handler] [llama.cpp >] llama_model_loader: - kv  19:                tokenizer.ggml.eos_token_id u32              = 128009\n",
      "2025-02-15 17:44:13,987 - [DEBUG] [LLM Handler] [llama.cpp >] llama_model_loader: - kv  20:                    tokenizer.chat_template str              = {% set loop_messages = messages %}{% ...\n",
      "2025-02-15 17:44:13,987 - [DEBUG] [LLM Handler] [llama.cpp >] llama_model_loader: - kv  21:               general.quantization_version u32              = 2\n",
      "2025-02-15 17:44:13,987 - [DEBUG] [LLM Handler] [llama.cpp >] llama_model_loader: - type  f32:   65 tensors\n",
      "2025-02-15 17:44:13,988 - [DEBUG] [LLM Handler] [llama.cpp >] llama_model_loader: - type q8_0:  226 tensors\n",
      "2025-02-15 17:44:13,988 - [DEBUG] [LLM Handler] [llama.cpp >] print_info: file format = GGUF V3 (latest)\n",
      "2025-02-15 17:44:13,988 - [DEBUG] [LLM Handler] [llama.cpp >] print_info: file type   = Q8_0\n",
      "2025-02-15 17:44:13,989 - [DEBUG] [LLM Handler] [llama.cpp >] print_info: file size   = 7.95 GiB (8.50 BPW)\n",
      "2025-02-15 17:44:14,104 - [DEBUG] [LLM Handler] [llama.cpp >] load: special tokens cache size = 256\n",
      "2025-02-15 17:44:14,133 - [DEBUG] [LLM Handler] [llama.cpp >] load: token to piece cache size = 0.8000 MB\n",
      "2025-02-15 17:44:14,134 - [DEBUG] [LLM Handler] [llama.cpp >] print_info: arch             = llama\n",
      "2025-02-15 17:44:14,134 - [DEBUG] [LLM Handler] [llama.cpp >] print_info: vocab_only       = 0\n",
      "2025-02-15 17:44:14,134 - [DEBUG] [LLM Handler] [llama.cpp >] print_info: n_ctx_train      = 8192\n",
      "2025-02-15 17:44:14,135 - [DEBUG] [LLM Handler] [llama.cpp >] print_info: n_embd           = 4096\n",
      "2025-02-15 17:44:14,136 - [DEBUG] [LLM Handler] [llama.cpp >] print_info: n_layer          = 32\n",
      "2025-02-15 17:44:14,136 - [DEBUG] [LLM Handler] [llama.cpp >] print_info: n_head           = 32\n",
      "2025-02-15 17:44:14,137 - [DEBUG] [LLM Handler] [llama.cpp >] print_info: n_head_kv        = 8\n",
      "2025-02-15 17:44:14,137 - [DEBUG] [LLM Handler] [llama.cpp >] print_info: n_rot            = 128\n",
      "2025-02-15 17:44:14,137 - [DEBUG] [LLM Handler] [llama.cpp >] print_info: n_swa            = 0\n",
      "2025-02-15 17:44:14,138 - [DEBUG] [LLM Handler] [llama.cpp >] print_info: n_embd_head_k    = 128\n",
      "2025-02-15 17:44:14,139 - [DEBUG] [LLM Handler] [llama.cpp >] print_info: n_embd_head_v    = 128\n",
      "2025-02-15 17:44:14,139 - [DEBUG] [LLM Handler] [llama.cpp >] print_info: n_gqa            = 4\n",
      "2025-02-15 17:44:14,140 - [DEBUG] [LLM Handler] [llama.cpp >] print_info: n_embd_k_gqa     = 1024\n",
      "2025-02-15 17:44:14,140 - [DEBUG] [LLM Handler] [llama.cpp >] print_info: n_embd_v_gqa     = 1024\n",
      "2025-02-15 17:44:14,141 - [DEBUG] [LLM Handler] [llama.cpp >] print_info: f_norm_eps       = 0.0e+00\n",
      "2025-02-15 17:44:14,141 - [DEBUG] [LLM Handler] [llama.cpp >] print_info: f_norm_rms_eps   = 1.0e-05\n",
      "2025-02-15 17:44:14,142 - [DEBUG] [LLM Handler] [llama.cpp >] print_info: f_clamp_kqv      = 0.0e+00\n",
      "2025-02-15 17:44:14,142 - [DEBUG] [LLM Handler] [llama.cpp >] print_info: f_max_alibi_bias = 0.0e+00\n",
      "2025-02-15 17:44:14,143 - [DEBUG] [LLM Handler] [llama.cpp >] print_info: f_logit_scale    = 0.0e+00\n",
      "2025-02-15 17:44:14,143 - [DEBUG] [LLM Handler] [llama.cpp >] print_info: n_ff             = 14336\n",
      "2025-02-15 17:44:14,144 - [DEBUG] [LLM Handler] [llama.cpp >] print_info: n_expert         = 0\n",
      "2025-02-15 17:44:14,144 - [DEBUG] [LLM Handler] [llama.cpp >] print_info: n_expert_used    = 0\n",
      "2025-02-15 17:44:14,146 - [DEBUG] [LLM Handler] [llama.cpp >] print_info: causal attn      = 1\n",
      "2025-02-15 17:44:14,146 - [DEBUG] [LLM Handler] [llama.cpp >] print_info: pooling type     = 0\n",
      "2025-02-15 17:44:14,147 - [DEBUG] [LLM Handler] [llama.cpp >] print_info: rope type        = 0\n",
      "2025-02-15 17:44:14,147 - [DEBUG] [LLM Handler] [llama.cpp >] print_info: rope scaling     = linear\n",
      "2025-02-15 17:44:14,147 - [DEBUG] [LLM Handler] [llama.cpp >] print_info: freq_base_train  = 500000.0\n",
      "2025-02-15 17:44:14,148 - [DEBUG] [LLM Handler] [llama.cpp >] print_info: freq_scale_train = 1\n",
      "2025-02-15 17:44:14,148 - [DEBUG] [LLM Handler] [llama.cpp >] print_info: n_ctx_orig_yarn  = 8192\n",
      "2025-02-15 17:44:14,149 - [DEBUG] [LLM Handler] [llama.cpp >] print_info: rope_finetuned   = unknown\n",
      "2025-02-15 17:44:14,150 - [DEBUG] [LLM Handler] [llama.cpp >] print_info: ssm_d_conv       = 0\n",
      "2025-02-15 17:44:14,151 - [DEBUG] [LLM Handler] [llama.cpp >] print_info: ssm_d_inner      = 0\n",
      "2025-02-15 17:44:14,151 - [DEBUG] [LLM Handler] [llama.cpp >] print_info: ssm_d_state      = 0\n",
      "2025-02-15 17:44:14,152 - [DEBUG] [LLM Handler] [llama.cpp >] print_info: ssm_dt_rank      = 0\n",
      "2025-02-15 17:44:14,152 - [DEBUG] [LLM Handler] [llama.cpp >] print_info: ssm_dt_b_c_rms   = 0\n",
      "2025-02-15 17:44:14,153 - [DEBUG] [LLM Handler] [llama.cpp >] print_info: model type       = 8B\n",
      "2025-02-15 17:44:14,153 - [DEBUG] [LLM Handler] [llama.cpp >] print_info: model params     = 8.03 B\n",
      "2025-02-15 17:44:14,154 - [DEBUG] [LLM Handler] [llama.cpp >] print_info: general.name     = models\n",
      "2025-02-15 17:44:14,154 - [DEBUG] [LLM Handler] [llama.cpp >] print_info: vocab type       = BPE\n",
      "2025-02-15 17:44:14,155 - [DEBUG] [LLM Handler] [llama.cpp >] print_info: n_vocab          = 128256\n",
      "2025-02-15 17:44:14,156 - [DEBUG] [LLM Handler] [llama.cpp >] print_info: n_merges         = 280147\n",
      "2025-02-15 17:44:14,156 - [DEBUG] [LLM Handler] [llama.cpp >] print_info: BOS token        = 128000 '<|begin_of_text|>'\n",
      "2025-02-15 17:44:14,157 - [DEBUG] [LLM Handler] [llama.cpp >] print_info: EOS token        = 128009 '<|eot_id|>'\n",
      "2025-02-15 17:44:14,157 - [DEBUG] [LLM Handler] [llama.cpp >] print_info: EOT token        = 128009 '<|eot_id|>'\n",
      "2025-02-15 17:44:14,158 - [DEBUG] [LLM Handler] [llama.cpp >] print_info: LF token         = 198 'Ċ'\n",
      "2025-02-15 17:44:14,158 - [DEBUG] [LLM Handler] [llama.cpp >] print_info: EOG token        = 128009 '<|eot_id|>'\n",
      "2025-02-15 17:44:14,158 - [DEBUG] [LLM Handler] [llama.cpp >] print_info: max token length = 256\n",
      "2025-02-15 17:44:14,159 - [DEBUG] [LLM Handler] [llama.cpp >] load_tensors: loading model tensors, this can take a while... (mmap = true)\n",
      "2025-02-15 17:44:18,300 - [DEBUG] [LLM Handler] [llama.cpp >] load_tensors: offloading 16 repeating layers to GPU\n",
      "2025-02-15 17:44:18,314 - [DEBUG] [LLM Handler] [llama.cpp >] load_tensors: offloaded 16/33 layers to GPU\n",
      "2025-02-15 17:44:18,314 - [DEBUG] [LLM Handler] [llama.cpp >] load_tensors:        CUDA0 model buffer size =  3536.50 MiB\n",
      "2025-02-15 17:44:18,315 - [DEBUG] [LLM Handler] [llama.cpp >] load_tensors:   CPU_Mapped model buffer size =  8137.64 MiB\n",
      "2025-02-15 17:44:19,363 - [DEBUG] [LLM Handler] [llama.cpp >] ..........................................................................................\n",
      "2025-02-15 17:44:19,368 - [DEBUG] [LLM Handler] [llama.cpp >] llama_init_from_model: n_seq_max     = 1\n",
      "2025-02-15 17:44:19,369 - [DEBUG] [LLM Handler] [llama.cpp >] llama_init_from_model: n_ctx         = 4096\n",
      "2025-02-15 17:44:19,370 - [DEBUG] [LLM Handler] [llama.cpp >] llama_init_from_model: n_ctx_per_seq = 4096\n",
      "2025-02-15 17:44:19,370 - [DEBUG] [LLM Handler] [llama.cpp >] llama_init_from_model: n_batch       = 2048\n",
      "2025-02-15 17:44:19,371 - [DEBUG] [LLM Handler] [llama.cpp >] llama_init_from_model: n_ubatch      = 512\n",
      "2025-02-15 17:44:19,371 - [DEBUG] [LLM Handler] [llama.cpp >] llama_init_from_model: flash_attn    = 1\n",
      "2025-02-15 17:44:19,371 - [DEBUG] [LLM Handler] [llama.cpp >] llama_init_from_model: freq_base     = 500000.0\n",
      "2025-02-15 17:44:19,372 - [DEBUG] [LLM Handler] [llama.cpp >] llama_init_from_model: freq_scale    = 1\n",
      "2025-02-15 17:44:19,372 - [DEBUG] [LLM Handler] [llama.cpp >] llama_init_from_model: n_ctx_per_seq (4096) < n_ctx_train (8192) -- the full capacity of the model will not be utilized\n",
      "2025-02-15 17:44:19,373 - [DEBUG] [LLM Handler] [llama.cpp >] llama_kv_cache_init: kv_size = 4096, offload = 1, type_k = 'f16', type_v = 'f16', n_layer = 32, can_shift = 1\n",
      "2025-02-15 17:44:19,380 - [DEBUG] [LLM Handler] [llama.cpp >] llama_kv_cache_init:      CUDA0 KV buffer size =   256.00 MiB\n",
      "2025-02-15 17:44:19,467 - [DEBUG] [LLM Handler] [llama.cpp >] llama_kv_cache_init:        CPU KV buffer size =   256.00 MiB\n",
      "2025-02-15 17:44:19,468 - [DEBUG] [LLM Handler] [llama.cpp >] llama_init_from_model: KV self size  =  512.00 MiB, K (f16):  256.00 MiB, V (f16):  256.00 MiB\n",
      "2025-02-15 17:44:19,469 - [DEBUG] [LLM Handler] [llama.cpp >] llama_init_from_model:        CPU  output buffer size =     0.49 MiB\n",
      "2025-02-15 17:44:19,485 - [DEBUG] [LLM Handler] [llama.cpp >] llama_init_from_model:      CUDA0 compute buffer size =   790.81 MiB\n",
      "2025-02-15 17:44:19,486 - [DEBUG] [LLM Handler] [llama.cpp >] llama_init_from_model:  CUDA_Host compute buffer size =    16.01 MiB\n",
      "2025-02-15 17:44:19,487 - [DEBUG] [LLM Handler] [llama.cpp >] llama_init_from_model: graph nodes  = 903\n",
      "2025-02-15 17:44:19,487 - [DEBUG] [LLM Handler] [llama.cpp >] llama_init_from_model: graph splits = 180 (with bs=512), 3 (with bs=1)\n",
      "2025-02-15 17:44:19,488 - [DEBUG] [LLM Handler] [llama.cpp >] common_init_from_params: setting dry_penalty_last_n to ctx_size = 4096\n",
      "2025-02-15 17:44:19,488 - [DEBUG] [LLM Handler] [llama.cpp >] common_init_from_params: warming up the model with an empty run - please wait ... (--no-warmup to disable)\n",
      "2025-02-15 17:44:22,050 - [DEBUG] [LLM Handler] [llama.cpp >] main: llama threadpool init, n_threads = 12\n",
      "2025-02-15 17:44:22,054 - [DEBUG] [LLM Handler] [llama.cpp >] \n",
      "2025-02-15 17:44:22,054 - [DEBUG] [LLM Handler] [llama.cpp >] system_info: n_threads = 12 (n_threads_batch = 12) / 24 | CUDA : ARCHS = 520,610,700,750 | USE_GRAPHS = 1 | PEER_MAX_BATCH_SIZE = 128 | CPU : SSE3 = 1 | SSSE3 = 1 | AVX = 1 | AVX2 = 1 | F16C = 1 | FMA = 1 | LLAMAFILE = 1 | OPENMP = 1 | AARCH64_REPACK = 1 |\n",
      "2025-02-15 17:44:22,054 - [DEBUG] [LLM Handler] [llama.cpp >] \n",
      "2025-02-15 17:44:22,055 - [DEBUG] [LLM Handler] [llama.cpp >] main: interactive mode on.\n",
      "2025-02-15 17:44:22,055 - [DEBUG] [LLM Handler] [llama.cpp >] Input suffix: '<|start_header_id|>assistant<|end_header_id|>\n",
      "2025-02-15 17:44:22,055 - [DEBUG] [LLM Handler] [llama.cpp >] \n",
      "2025-02-15 17:44:22,056 - [DEBUG] [LLM Handler] [llama.cpp >] '\n",
      "2025-02-15 17:44:22,056 - [DEBUG] [LLM Handler] [llama.cpp >] sampler seed: 2801045102\n",
      "2025-02-15 17:44:22,057 - [DEBUG] [LLM Handler] [llama.cpp >] sampler params:\n",
      "2025-02-15 17:44:22,057 - [DEBUG] [LLM Handler] [llama.cpp >] repeat_last_n = 64, repeat_penalty = 1.000, frequency_penalty = 0.000, presence_penalty = 0.000\n",
      "2025-02-15 17:44:22,057 - [DEBUG] [LLM Handler] [llama.cpp >] dry_multiplier = 0.000, dry_base = 1.750, dry_allowed_length = 2, dry_penalty_last_n = 4096\n",
      "2025-02-15 17:44:22,058 - [DEBUG] [LLM Handler] [llama.cpp >] top_k = 40, top_p = 0.950, min_p = 0.050, xtc_probability = 0.000, xtc_threshold = 0.100, typical_p = 1.000, temp = 0.000\n",
      "2025-02-15 17:44:22,058 - [DEBUG] [LLM Handler] [llama.cpp >] mirostat = 0, mirostat_lr = 0.100, mirostat_ent = 5.000\n",
      "2025-02-15 17:44:22,059 - [DEBUG] [LLM Handler] [llama.cpp >] sampler chain: logits -> logit-bias -> penalties -> dry -> top-k -> typical -> top-p -> min-p -> xtc -> temp-ext -> dist\n",
      "2025-02-15 17:44:22,059 - [DEBUG] [LLM Handler] [llama.cpp >] generate: n_ctx = 4096, n_batch = 2048, n_predict = -1, n_keep = 765\n",
      "2025-02-15 17:44:22,060 - [DEBUG] [LLM Handler] [llama.cpp >] \n",
      "2025-02-15 17:44:22,060 - [DEBUG] [LLM Handler] [llama.cpp >] == Running in interactive mode. ==\n"
     ]
    }
   ],
   "source": [
    "model_name = 'llama-3-sqlcoder-8b-Q8_0'\n",
    "db_config = {\n",
    "    \"host\": \"192.168.1.141\",\n",
    "    \"port\": 5433,\n",
    "    \"database\": \"sandoz\",\n",
    "    \"user\": \"postgres\",\n",
    "    \"password\": \"postgres\"\n",
    "}\n",
    "\n",
    "# Inicializar otros componentes\n",
    "sql_generator = SQLQueryGenerator(\n",
    "    model_name=model_name,\n",
    "    db_config=db_config,\n",
    "    max_attempts=3\n",
    ")"
   ]
  },
  {
   "cell_type": "code",
   "execution_count": 3,
   "metadata": {},
   "outputs": [
    {
     "name": "stderr",
     "output_type": "stream",
     "text": [
      "2025-02-15 17:44:37,697 - [INFO] [Prompt Render] Loading prompt file...\n",
      "2025-02-15 17:44:37,701 - [INFO] [Prompt Loader] Checking file path: ./prompts/llama-3-sqlcoder-8b-Q8_0/user_prompt.txt\n",
      "2025-02-15 17:44:37,737 - [INFO] [Prompt Render] Prompt rendered: How many years of historical data do we have available for Spain?\n",
      "\n",
      "\n",
      "\n",
      "2025-02-15 17:44:37,739 - [INFO] [LLM Handler] Sending prompt: <|start_header_id|>user<|end_header_id|> How many years of historical data do we have available for Spain?<|eot_id|>\n",
      "2025-02-15 17:44:37,741 - [DEBUG] [LLM Handler] [llama.cpp >] - Press Ctrl+C to interject at any time.\n",
      "2025-02-15 17:44:37,741 - [DEBUG] [LLM Handler] [llama.cpp >] - To return control to the AI, end your input with '\\'.\n",
      "2025-02-15 17:44:37,742 - [DEBUG] [LLM Handler] [llama.cpp >] - To return control without starting a new line, end your input with '/'.\n",
      "2025-02-15 17:44:37,743 - [DEBUG] [LLM Handler] [llama.cpp >] \n",
      "2025-02-15 17:44:37,743 - [DEBUG] [LLM Handler] [llama.cpp >] <|begin_of_text|><|start_header_id|>system<|end_header_id|> You are an expert in SQL Query. Your Task consists of translating/transforming the users question into an SQL query.\n",
      "2025-02-15 17:44:37,744 - [DEBUG] [LLM Handler] [llama.cpp >] \n",
      "2025-02-15 17:44:37,745 - [DEBUG] [LLM Handler] [llama.cpp >] The query will run on a database with the following schema:\n",
      "2025-02-15 17:44:37,745 - [DEBUG] [LLM Handler] [llama.cpp >] TABLE: continents\n",
      "2025-02-15 17:44:37,745 - [DEBUG] [LLM Handler] [llama.cpp >] - code: character, example 'AF' - Column description: None\n",
      "2025-02-15 17:44:37,746 - [DEBUG] [LLM Handler] [llama.cpp >] - name: character varying, example 'Africa' - Column description: None\n",
      "2025-02-15 17:44:37,747 - [DEBUG] [LLM Handler] [llama.cpp >] TABLE: countries\n",
      "2025-02-15 17:44:37,747 - [DEBUG] [LLM Handler] [llama.cpp >] - code: character, example 'AF' - Column description: None\n",
      "2025-02-15 17:44:37,748 - [DEBUG] [LLM Handler] [llama.cpp >] - continent_code: character, example 'AS' - Column description: None\n",
      "2025-02-15 17:44:37,748 - [DEBUG] [LLM Handler] [llama.cpp >] - name: character varying, example 'Afghanistan' - Column description: None\n",
      "2025-02-15 17:44:37,749 - [DEBUG] [LLM Handler] [llama.cpp >] - iso3: character, example 'AFG' - Column description: None\n",
      "2025-02-15 17:44:37,750 - [DEBUG] [LLM Handler] [llama.cpp >] - number: character, example '004' - Column description: None\n",
      "2025-02-15 17:44:37,750 - [DEBUG] [LLM Handler] [llama.cpp >] - full_name: character varying, example 'Islamic Republic of Afghanistan' - Column description: None\n",
      "2025-02-15 17:44:37,751 - [DEBUG] [LLM Handler] [llama.cpp >] TABLE: market_mapping\n",
      "2025-02-15 17:44:37,752 - [DEBUG] [LLM Handler] [llama.cpp >] - market: character varying, example 'DE' - Column description: None\n",
      "2025-02-15 17:44:37,753 - [DEBUG] [LLM Handler] [llama.cpp >] - market_des: character varying, example 'GERMANY' - Column description: None\n",
      "2025-02-15 17:44:37,754 - [DEBUG] [LLM Handler] [llama.cpp >] - cluster: character varying, example 'GERMANY' - Column description: The cluster within a region to which a market belongs (e.g., SOUTH)\n",
      "2025-02-15 17:44:37,754 - [DEBUG] [LLM Handler] [llama.cpp >] - region: character varying, example 'EUROPE' - Column description: None\n",
      "2025-02-15 17:44:37,754 - [DEBUG] [LLM Handler] [llama.cpp >] TABLE: monthly_balance\n",
      "2025-02-15 17:44:37,755 - [DEBUG] [LLM Handler] [llama.cpp >] - month: character varying, example '202101' - Column description: The month of the sales data, formatted as YYYYMM\n",
      "2025-02-15 17:44:37,755 - [DEBUG] [LLM Handler] [llama.cpp >] - market: character varying, example 'ES' - Column description: The id of the country representing the market (e.g., US, DE, IT)\n",
      "2025-02-15 17:44:37,756 - [DEBUG] [LLM Handler] [llama.cpp >] - bu: character varying, example 'GN_BP' - Column description: The bussiness unit identifier (GN_BP for biosimilars, GN_RE for retail)\n",
      "2025-02-15 17:44:37,756 - [DEBUG] [LLM Handler] [llama.cpp >] - volume: numeric, example '693063.00' - Column description: The volume of sales in the specified month, region, market, and business unit\n",
      "2025-02-15 17:44:37,757 - [DEBUG] [LLM Handler] [llama.cpp >] - value: numeric, example '716445.67' - Column description: The monetary value of sales (net) in the specified month, region, market, and business unit\n",
      "2025-02-15 17:44:37,757 - [DEBUG] [LLM Handler] [llama.cpp >] TABLE: monthly_lo\n",
      "2025-02-15 17:44:37,758 - [DEBUG] [LLM Handler] [llama.cpp >] - month: character varying, example '202101' - Column description: The month of the sales data, formatted as YYYYMM\n",
      "2025-02-15 17:44:37,758 - [DEBUG] [LLM Handler] [llama.cpp >] - market: character varying, example 'ES' - Column description: The id of the country representing the market (e.g., US, DE, IT)\n",
      "2025-02-15 17:44:37,759 - [DEBUG] [LLM Handler] [llama.cpp >] - bu: character varying, example 'GN_BP' - Column description: The bussiness unit identifier (GN_BP for biosimilars, GN_RE for retail)\n",
      "2025-02-15 17:44:37,759 - [DEBUG] [LLM Handler] [llama.cpp >] - value: numeric, example '547834.96' - Column description: The planned monetary value of sales (net) in the specified month, region, market, and business unit\n",
      "2025-02-15 17:44:37,760 - [DEBUG] [LLM Handler] [llama.cpp >] \n",
      "2025-02-15 17:44:37,760 - [DEBUG] [LLM Handler] [llama.cpp >] Relationships between tables (Foreign Keys):\n",
      "2025-02-15 17:44:37,761 - [DEBUG] [LLM Handler] [llama.cpp >] - fk_countries_continents: countries(continent_code) -> continents(code)\n",
      "2025-02-15 17:44:37,762 - [DEBUG] [LLM Handler] [llama.cpp >] - fk_mapping_countries: market_mapping(market) -> countries(code)\n",
      "2025-02-15 17:44:37,762 - [DEBUG] [LLM Handler] [llama.cpp >] - fk_market: monthly_balance(market) -> market_mapping(market)\n",
      "2025-02-15 17:44:37,762 - [DEBUG] [LLM Handler] [llama.cpp >] - fk_market: monthly_balance(market) -> market_mapping(market)\n",
      "2025-02-15 17:44:37,764 - [DEBUG] [LLM Handler] [llama.cpp >] - fk_market: monthly_balance(market) -> market_mapping(market)\n",
      "2025-02-15 17:44:37,764 - [DEBUG] [LLM Handler] [llama.cpp >] - fk_market: monthly_balance(market) -> market_mapping(market)\n",
      "2025-02-15 17:44:37,765 - [DEBUG] [LLM Handler] [llama.cpp >] - fk_market: monthly_lo(market) -> market_mapping(market)\n",
      "2025-02-15 17:44:37,765 - [DEBUG] [LLM Handler] [llama.cpp >] - fk_market: monthly_lo(market) -> market_mapping(market)\n",
      "2025-02-15 17:44:37,766 - [DEBUG] [LLM Handler] [llama.cpp >] - fk_market: monthly_lo(market) -> market_mapping(market)\n",
      "2025-02-15 17:44:37,766 - [DEBUG] [LLM Handler] [llama.cpp >] - fk_market: monthly_lo(market) -> market_mapping(market)<|eot_id|>\n",
      "2025-02-15 17:44:37,767 - [DEBUG] [LLM Handler] [llama.cpp >] \n",
      "2025-02-15 17:44:37,767 - [DEBUG] [LLM Handler] [llama.cpp >] <|start_header_id|>user<|end_header_id|> How many years of historical data do we have available for Spain?<|eot_id|>\n",
      "2025-02-15 17:44:37,768 - [DEBUG] [LLM Handler] [llama.cpp >] \n",
      "2025-02-15 17:44:37,768 - [DEBUG] [LLM Handler] [llama.cpp >] <|start_header_id|>assistant<|end_header_id|>\n",
      "2025-02-15 17:44:37,769 - [DEBUG] [LLM Handler] [llama.cpp >] \n"
     ]
    },
    {
     "name": "stdout",
     "output_type": "stream",
     "text": [
      "[]\n"
     ]
    },
    {
     "name": "stderr",
     "output_type": "stream",
     "text": [
      "2025-02-15 17:44:55,559 - [DEBUG] [LLM Handler] [llama.cpp >] SELECT COUNT(DISTINCT EXTRACT(YEAR FROM TO_DATE(m.month, 'YYYYMM'))) AS years_of_data FROM monthly_balance m JOIN market_mapping mm ON m.market = mm.market WHERE LOWER(mm.market_des) = 'spain';<|eot_id|>\n",
      "2025-02-15 17:44:55,561 - [INFO] [Query Generator] Model output: SELECT COUNT(DISTINCT EXTRACT(YEAR FROM TO_DATE(m.month, 'YYYYMM'))) AS years_of_data FROM monthly_balance m JOIN market_mapping mm ON m.market = mm.market WHERE LOWER(mm.market_des) = 'spain';\n"
     ]
    }
   ],
   "source": [
    "user_input = \"How many years of historical data do we have available for Spain?\"\n",
    "\n",
    "query = sql_generator.generate_sql_query(user_input)"
   ]
  },
  {
   "cell_type": "code",
   "execution_count": 4,
   "metadata": {},
   "outputs": [
    {
     "name": "stderr",
     "output_type": "stream",
     "text": [
      "2025-02-15 17:44:55,612 - [INFO] [Prompt Render] Loading prompt file...\n",
      "2025-02-15 17:44:55,613 - [INFO] [Prompt Loader] Checking file path: ./prompts/llama-3-sqlcoder-8b-Q8_0/user_prompt.txt\n",
      "2025-02-15 17:44:55,615 - [INFO] [Prompt Render] Prompt rendered: How many years of historical data do we have available for the south cluster of Europe?\n",
      "\n",
      "\n",
      "\n",
      "2025-02-15 17:44:55,616 - [INFO] [LLM Handler] Sending prompt: <|start_header_id|>user<|end_header_id|> How many years of historical data do we have available for the south cluster of Europe?<|eot_id|>\n",
      "2025-02-15 17:44:55,616 - [DEBUG] [LLM Handler] [llama.cpp >] <|start_header_id|>user<|end_header_id|> How many years of historical data do we have available for the south cluster of Europe?<|eot_id|>\n",
      "2025-02-15 17:44:55,617 - [DEBUG] [LLM Handler] [llama.cpp >] \n",
      "2025-02-15 17:44:55,618 - [DEBUG] [LLM Handler] [llama.cpp >] <|start_header_id|>assistant<|end_header_id|>\n",
      "2025-02-15 17:44:55,619 - [DEBUG] [LLM Handler] [llama.cpp >] \n"
     ]
    },
    {
     "name": "stdout",
     "output_type": "stream",
     "text": [
      "[]\n"
     ]
    },
    {
     "name": "stderr",
     "output_type": "stream",
     "text": [
      "2025-02-15 17:45:16,882 - [DEBUG] [LLM Handler] [llama.cpp >] SELECT COUNT(DISTINCT EXTRACT(YEAR FROM TO_DATE(m.month, 'YYYYMM'))) AS years_of_data FROM monthly_balance m JOIN market_mapping mm ON m.market = mm.market WHERE LOWER(mm.cluster) = 'south' AND LOWER(mm.region) = 'europe';<|eot_id|>\n",
      "2025-02-15 17:45:16,882 - [INFO] [Query Generator] Model output: SELECT COUNT(DISTINCT EXTRACT(YEAR FROM TO_DATE(m.month, 'YYYYMM'))) AS years_of_data FROM monthly_balance m JOIN market_mapping mm ON m.market = mm.market WHERE LOWER(mm.cluster) = 'south' AND LOWER(mm.region) = 'europe';\n"
     ]
    }
   ],
   "source": [
    "user_input = \"How many years of historical data do we have available for the south cluster of Europe?\"\n",
    "\n",
    "query = sql_generator.generate_sql_query(user_input)"
   ]
  },
  {
   "cell_type": "code",
   "execution_count": 5,
   "metadata": {},
   "outputs": [
    {
     "name": "stderr",
     "output_type": "stream",
     "text": [
      "2025-02-15 17:45:16,927 - [INFO] [Prompt Render] Loading prompt file...\n",
      "2025-02-15 17:45:16,928 - [INFO] [Prompt Loader] Checking file path: ./prompts/llama-3-sqlcoder-8b-Q8_0/user_prompt.txt\n",
      "2025-02-15 17:45:16,931 - [INFO] [Prompt Render] Prompt rendered: What were the sales in the spanish market 3 years ago?\n",
      "\n",
      "\n",
      "\n",
      "2025-02-15 17:45:16,932 - [INFO] [LLM Handler] Sending prompt: <|start_header_id|>user<|end_header_id|> What were the sales in the spanish market 3 years ago?<|eot_id|>\n",
      "2025-02-15 17:45:16,932 - [DEBUG] [LLM Handler] [llama.cpp >] <|start_header_id|>user<|end_header_id|> What were the sales in the spanish market 3 years ago?<|eot_id|>\n",
      "2025-02-15 17:45:16,933 - [DEBUG] [LLM Handler] [llama.cpp >] \n",
      "2025-02-15 17:45:16,934 - [DEBUG] [LLM Handler] [llama.cpp >] <|start_header_id|>assistant<|end_header_id|>\n",
      "2025-02-15 17:45:16,935 - [DEBUG] [LLM Handler] [llama.cpp >] \n"
     ]
    },
    {
     "name": "stdout",
     "output_type": "stream",
     "text": [
      "[]\n"
     ]
    },
    {
     "name": "stderr",
     "output_type": "stream",
     "text": [
      "2025-02-15 17:45:40,069 - [DEBUG] [LLM Handler] [llama.cpp >] SELECT SUM(m.value) AS total_sales FROM monthly_balance m JOIN market_mapping mm ON m.market = mm.market WHERE LOWER(mm.market_des) = 'spain' AND EXTRACT(YEAR FROM TO_DATE(m.month, 'YYYYMM')) = EXTRACT(YEAR FROM CURRENT_DATE) - 3;<|eot_id|>\n",
      "2025-02-15 17:45:40,070 - [INFO] [Query Generator] Model output: SELECT SUM(m.value) AS total_sales FROM monthly_balance m JOIN market_mapping mm ON m.market = mm.market WHERE LOWER(mm.market_des) = 'spain' AND EXTRACT(YEAR FROM TO_DATE(m.month, 'YYYYMM')) = EXTRACT(YEAR FROM CURRENT_DATE) - 3;\n"
     ]
    }
   ],
   "source": [
    "user_input = \"What were the sales in the spanish market 3 years ago?\"\n",
    "\n",
    "query = sql_generator.generate_sql_query(user_input)"
   ]
  },
  {
   "cell_type": "code",
   "execution_count": 6,
   "metadata": {},
   "outputs": [
    {
     "name": "stderr",
     "output_type": "stream",
     "text": [
      "2025-02-15 17:45:40,115 - [INFO] [Prompt Render] Loading prompt file...\n",
      "2025-02-15 17:45:40,115 - [INFO] [Prompt Loader] Checking file path: ./prompts/llama-3-sqlcoder-8b-Q8_0/user_prompt.txt\n",
      "2025-02-15 17:45:40,117 - [INFO] [Prompt Render] Prompt rendered: What was the demand in bio in Germany in August 2021?\n",
      "\n",
      "\n",
      "\n",
      "2025-02-15 17:45:40,118 - [INFO] [LLM Handler] Sending prompt: <|start_header_id|>user<|end_header_id|> What was the demand in bio in Germany in August 2021?<|eot_id|>\n",
      "2025-02-15 17:45:40,119 - [DEBUG] [LLM Handler] [llama.cpp >] <|start_header_id|>user<|end_header_id|> What was the demand in bio in Germany in August 2021?<|eot_id|>\n",
      "2025-02-15 17:45:40,119 - [DEBUG] [LLM Handler] [llama.cpp >] \n",
      "2025-02-15 17:45:40,120 - [DEBUG] [LLM Handler] [llama.cpp >] <|start_header_id|>assistant<|end_header_id|>\n",
      "2025-02-15 17:45:40,121 - [DEBUG] [LLM Handler] [llama.cpp >] \n"
     ]
    },
    {
     "name": "stdout",
     "output_type": "stream",
     "text": [
      "[]\n"
     ]
    },
    {
     "name": "stderr",
     "output_type": "stream",
     "text": [
      "2025-02-15 17:45:59,504 - [DEBUG] [LLM Handler] [llama.cpp >] SELECT m.value AS demand FROM monthly_lo m JOIN market_mapping mm ON m.market = mm.market WHERE LOWER(mm.market_des) = 'germany' AND LOWER(mm.bu) = 'gn_bp' AND m.month = '202108';<|eot_id|>\n",
      "2025-02-15 17:45:59,506 - [INFO] [Query Generator] Model output: SELECT m.value AS demand FROM monthly_lo m JOIN market_mapping mm ON m.market = mm.market WHERE LOWER(mm.market_des) = 'germany' AND LOWER(mm.bu) = 'gn_bp' AND m.month = '202108';\n"
     ]
    }
   ],
   "source": [
    "user_input = \"What was the demand in bio in Germany in August 2021?\"\n",
    "\n",
    "query = sql_generator.generate_sql_query(user_input)"
   ]
  },
  {
   "cell_type": "code",
   "execution_count": 7,
   "metadata": {},
   "outputs": [
    {
     "name": "stderr",
     "output_type": "stream",
     "text": [
      "2025-02-15 17:45:59,547 - [INFO] [Prompt Render] Loading prompt file...\n",
      "2025-02-15 17:45:59,548 - [INFO] [Prompt Loader] Checking file path: ./prompts/llama-3-sqlcoder-8b-Q8_0/user_prompt.txt\n",
      "2025-02-15 17:45:59,550 - [INFO] [Prompt Render] Prompt rendered: What was the demand in bio in Germany in August 2021?\n",
      "I want the volume.\n",
      "\n",
      "\n",
      "2025-02-15 17:45:59,552 - [INFO] [LLM Handler] Sending prompt: <|start_header_id|>user<|end_header_id|> What was the demand in bio in Germany in August 2021?\n",
      "I want the volume.<|eot_id|>\n",
      "2025-02-15 17:45:59,553 - [DEBUG] [LLM Handler] [llama.cpp >] <|start_header_id|>user<|end_header_id|> What was the demand in bio in Germany in August 2021?\n",
      "2025-02-15 17:45:59,554 - [DEBUG] [LLM Handler] [llama.cpp >] I want the volume.<|eot_id|>\n",
      "2025-02-15 17:45:59,556 - [DEBUG] [LLM Handler] [llama.cpp >] \n",
      "2025-02-15 17:45:59,557 - [DEBUG] [LLM Handler] [llama.cpp >] <|start_header_id|>assistant<|end_header_id|>\n",
      "2025-02-15 17:45:59,558 - [DEBUG] [LLM Handler] [llama.cpp >] \n"
     ]
    },
    {
     "name": "stdout",
     "output_type": "stream",
     "text": [
      "[]\n"
     ]
    },
    {
     "name": "stderr",
     "output_type": "stream",
     "text": [
      "2025-02-15 17:46:18,264 - [DEBUG] [LLM Handler] [llama.cpp >] SELECT m.volume AS demand FROM monthly_lo m JOIN market_mapping mm ON m.market = mm.market WHERE LOWER(mm.market_des) = 'germany' AND LOWER(mm.bu) = 'gn_bp' AND m.month = '202108';<|eot_id|>\n",
      "2025-02-15 17:46:18,265 - [INFO] [Query Generator] Model output: SELECT m.volume AS demand FROM monthly_lo m JOIN market_mapping mm ON m.market = mm.market WHERE LOWER(mm.market_des) = 'germany' AND LOWER(mm.bu) = 'gn_bp' AND m.month = '202108';\n"
     ]
    }
   ],
   "source": [
    "user_input = \"What was the demand in bio in Germany in August 2021?\"\n",
    "user_instructions = \"I want the volume.\"\n",
    "\n",
    "query = sql_generator.generate_sql_query(user_input, user_instructions)"
   ]
  },
  {
   "cell_type": "code",
   "execution_count": 1,
   "metadata": {},
   "outputs": [
    {
     "name": "stdout",
     "output_type": "stream",
     "text": [
      "TABLE: continents\n",
      "  - code: character, example 'AF'\n",
      "  - name: character varying, example 'Africa'\n",
      "TABLE: countries\n",
      "  - code: character, example 'AF'\n",
      "  - continent_code: character, example 'AS'\n",
      "  - name: character varying, example 'Afghanistan'\n",
      "  - iso3: character, example 'AFG'\n",
      "  - number: character, example '004'\n",
      "  - full_name: character varying, example 'Islamic Republic of Afghanistan'\n",
      "TABLE: market_mapping\n",
      "  - market: character varying, example 'DE'\n",
      "  - market_des: character varying, example 'GERMANY'\n",
      "  - cluster: character varying, example 'GERMANY' - Column description: The cluster within a region to which a market belongs (e.g., SOUTH)\n",
      "  - region: character varying, example 'EUROPE'\n",
      "TABLE: monthly_balance\n",
      "  - month: character varying, example '202101' - Column description: The month of the sales data, formatted as YYYYMM\n",
      "  - market: character varying, example 'ES' - Column description: The id of the country representing the market (e.g., US, DE, IT)\n",
      "  - bu: character varying, example 'GN_BP' - Column description: The bussiness unit identifier (GN_BP for biosimilars, GN_RE for retail)\n",
      "  - volume: numeric, example '693063.00' - Column description: The volume of sales in the specified month, region, market, and business unit\n",
      "  - value: numeric, example '716445.67' - Column description: The monetary value of sales (net) in the specified month, region, market, and business unit\n",
      "TABLE: monthly_lo\n",
      "  - month: character varying, example '202101' - Column description: The month of the sales data, formatted as YYYYMM\n",
      "  - market: character varying, example 'ES' - Column description: The id of the country representing the market (e.g., US, DE, IT)\n",
      "  - bu: character varying, example 'GN_BP' - Column description: The bussiness unit identifier (GN_BP for biosimilars, GN_RE for retail)\n",
      "  - value: numeric, example '547834.96' - Column description: The planned monetary value of sales (net) in the specified month, region, market, and business unit\n",
      "\n",
      "Relationships between tables (Foreign Keys):\n",
      "  - fk_countries_continents: countries(continent_code) -> continents(code)\n",
      "  - fk_mapping_countries: market_mapping(market) -> countries(code)\n",
      "  - fk_market: monthly_balance(market) -> market_mapping(market)\n",
      "  - fk_market: monthly_lo(market) -> market_mapping(market)\n"
     ]
    }
   ],
   "source": [
    "from modules.postgres import Postgres\n",
    "\n",
    "db_config = {\n",
    "    \"host\": \"192.168.1.141\",\n",
    "    \"port\": 5433,\n",
    "    \"database\": \"sandoz\",\n",
    "    \"user\": \"postgres\",\n",
    "    \"password\": \"postgres\"\n",
    "}\n",
    "\n",
    "schema = Postgres(db_config).get_db_schema_and_relationships()\n",
    "\n",
    "print(schema)"
   ]
  }
 ],
 "metadata": {
  "kernelspec": {
   "display_name": "Python 3",
   "language": "python",
   "name": "python3"
  },
  "language_info": {
   "codemirror_mode": {
    "name": "ipython",
    "version": 3
   },
   "file_extension": ".py",
   "mimetype": "text/x-python",
   "name": "python",
   "nbconvert_exporter": "python",
   "pygments_lexer": "ipython3",
   "version": "3.12.9"
  }
 },
 "nbformat": 4,
 "nbformat_minor": 2
}
