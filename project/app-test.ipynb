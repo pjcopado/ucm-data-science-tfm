{
 "cells": [
  {
   "cell_type": "code",
   "execution_count": 1,
   "metadata": {},
   "outputs": [
    {
     "name": "stderr",
     "output_type": "stream",
     "text": [
      "/usr/local/lib/python3.12/dist-packages/tqdm/auto.py:21: TqdmWarning: IProgress not found. Please update jupyter and ipywidgets. See https://ipywidgets.readthedocs.io/en/stable/user_install.html\n",
      "  from .autonotebook import tqdm as notebook_tqdm\n"
     ]
    }
   ],
   "source": [
    "from modules.sql_generator_v2 import SQLQueryGenerator"
   ]
  },
  {
   "cell_type": "code",
   "execution_count": 2,
   "metadata": {},
   "outputs": [
    {
     "name": "stdout",
     "output_type": "stream",
     "text": [
      "Fetching table definitions from the database...\n",
      "[PromptTemplate] Loading prompt file...\n",
      "[PromptTemplate] Prompt rendered: You are an expert in SQL Query. Your Task consists of translating/transforming the users question into an SQL query.\n",
      "\n",
      "The query will run on a database with the following schema:\n",
      "TABLE: market_mapping\n",
      "  - market: character varying, example 'DE'\n",
      "  - market_des: character varying, example 'GERMANY'\n",
      "  - cluster: character varying, example 'GERMANY'\n",
      "  - region: character varying, example 'EUROPE'\n",
      "TABLE: monthly_balance\n",
      "  - month: character varying, example '202101'\n",
      "  - market: character varying, example 'ES'\n",
      "  - bu: character varying, example 'GN_BP'\n",
      "  - volume: double precision, example '693063.0'\n",
      "  - value: double precision, example '716445.67'\n",
      "TABLE: monthly_lo\n",
      "  - month: character varying, example '202101'\n",
      "  - market: character varying, example 'ES'\n",
      "  - bu: character varying, example 'GN_BP'\n",
      "  - value: double precision, example '547834.96'\n",
      "[LLMHandler] Iniciando proceso: llama-cli --model ./models/gguf/llama-3-sqlcoder-8b-Q8_0.gguf --n_gpu_layers 16 --flash-attn --interactive --interactive-first --multiline-input --ctx-size 4096 --temp 0 --top_p 0.95 -no-cnv --keep -1 -p <|start_header_id|>system<|end_header_id|> You are an expert in SQL Query. Your Task consists of translating/transforming the users question into an SQL query.\n",
      "\n",
      "The query will run on a database with the following schema:\n",
      "TABLE: market_mapping\n",
      "  - market: character varying, example 'DE'\n",
      "  - market_des: character varying, example 'GERMANY'\n",
      "  - cluster: character varying, example 'GERMANY'\n",
      "  - region: character varying, example 'EUROPE'\n",
      "TABLE: monthly_balance\n",
      "  - month: character varying, example '202101'\n",
      "  - market: character varying, example 'ES'\n",
      "  - bu: character varying, example 'GN_BP'\n",
      "  - volume: double precision, example '693063.0'\n",
      "  - value: double precision, example '716445.67'\n",
      "TABLE: monthly_lo\n",
      "  - month: character varying, example '202101'\n",
      "  - market: character varying, example 'ES'\n",
      "  - bu: character varying, example 'GN_BP'\n",
      "  - value: double precision, example '547834.96'<|eot_id|> --in-prefix >>> --in-suffix <|start_header_id|>assistant<|end_header_id|>\n",
      "\n",
      " -sp\n",
      "[LLMHandler][llama.cpp >] ggml_cuda_init: GGML_CUDA_FORCE_MMQ:    no\n",
      "[LLMHandler][llama.cpp >] ggml_cuda_init: GGML_CUDA_FORCE_CUBLAS: no\n",
      "[LLMHandler][llama.cpp >] ggml_cuda_init: found 1 CUDA devices:\n",
      "[LLMHandler][llama.cpp >]   Device 0: NVIDIA GeForce RTX 3070, compute capability 8.6, VMM: yes\n",
      "[LLMHandler][llama.cpp >] build: 4687 (b9ab0a4d) with cc (Ubuntu 11.4.0-1ubuntu1~22.04) 11.4.0 for x86_64-linux-gnu\n",
      "[LLMHandler][llama.cpp >] main: llama backend init\n",
      "[LLMHandler][llama.cpp >] main: load the model and apply lora adapter, if any\n",
      "[LLMHandler][llama.cpp >] llama_model_load_from_file_impl: using device CUDA0 (NVIDIA GeForce RTX 3070) - 7100 MiB free\n",
      "[LLMHandler][llama.cpp >] llama_model_loader: loaded meta data with 22 key-value pairs and 291 tensors from ./models/gguf/llama-3-sqlcoder-8b-Q8_0.gguf (version GGUF V3 (latest))\n",
      "[LLMHandler][llama.cpp >] llama_model_loader: Dumping metadata keys/values. Note: KV overrides do not apply in this output.\n",
      "[LLMHandler][llama.cpp >] llama_model_loader: - kv   0:                       general.architecture str              = llama\n",
      "[LLMHandler][llama.cpp >] llama_model_loader: - kv   1:                               general.name str              = models\n",
      "[LLMHandler][llama.cpp >] llama_model_loader: - kv   2:                          llama.block_count u32              = 32\n",
      "[LLMHandler][llama.cpp >] llama_model_loader: - kv   3:                       llama.context_length u32              = 8192\n",
      "[LLMHandler][llama.cpp >] llama_model_loader: - kv   4:                     llama.embedding_length u32              = 4096\n",
      "[LLMHandler][llama.cpp >] llama_model_loader: - kv   5:                  llama.feed_forward_length u32              = 14336\n",
      "[LLMHandler][llama.cpp >] llama_model_loader: - kv   6:                 llama.attention.head_count u32              = 32\n",
      "[LLMHandler][llama.cpp >] llama_model_loader: - kv   7:              llama.attention.head_count_kv u32              = 8\n",
      "[LLMHandler][llama.cpp >] llama_model_loader: - kv   8:                       llama.rope.freq_base f32              = 500000.000000\n",
      "[LLMHandler][llama.cpp >] llama_model_loader: - kv   9:     llama.attention.layer_norm_rms_epsilon f32              = 0.000010\n",
      "[LLMHandler][llama.cpp >] llama_model_loader: - kv  10:                          general.file_type u32              = 7\n",
      "[LLMHandler][llama.cpp >] llama_model_loader: - kv  11:                           llama.vocab_size u32              = 128256\n",
      "[LLMHandler][llama.cpp >] llama_model_loader: - kv  12:                 llama.rope.dimension_count u32              = 128\n",
      "[LLMHandler][llama.cpp >] llama_model_loader: - kv  13:                       tokenizer.ggml.model str              = gpt2\n",
      "[LLMHandler][llama.cpp >] llama_model_loader: - kv  14:                         tokenizer.ggml.pre str              = llama-bpe\n",
      "[LLMHandler][llama.cpp >] llama_model_loader: - kv  15:                      tokenizer.ggml.tokens arr[str,128256]  = [\"!\", \"\\\"\", \"#\", \"$\", \"%\", \"&\", \"'\", ...\n",
      "[LLMHandler][llama.cpp >] llama_model_loader: - kv  16:                  tokenizer.ggml.token_type arr[i32,128256]  = [1, 1, 1, 1, 1, 1, 1, 1, 1, 1, 1, 1, ...\n",
      "[LLMHandler][llama.cpp >] llama_model_loader: - kv  17:                      tokenizer.ggml.merges arr[str,280147]  = [\"Ġ Ġ\", \"Ġ ĠĠĠ\", \"ĠĠ ĠĠ\", \"...\n",
      "[LLMHandler][llama.cpp >] llama_model_loader: - kv  18:                tokenizer.ggml.bos_token_id u32              = 128000\n",
      "[LLMHandler][llama.cpp >] llama_model_loader: - kv  19:                tokenizer.ggml.eos_token_id u32              = 128009\n",
      "[LLMHandler][llama.cpp >] llama_model_loader: - kv  20:                    tokenizer.chat_template str              = {% set loop_messages = messages %}{% ...\n",
      "[LLMHandler][llama.cpp >] llama_model_loader: - kv  21:               general.quantization_version u32              = 2\n",
      "[LLMHandler][llama.cpp >] llama_model_loader: - type  f32:   65 tensors\n",
      "[LLMHandler][llama.cpp >] llama_model_loader: - type q8_0:  226 tensors\n",
      "[LLMHandler][llama.cpp >] print_info: file format = GGUF V3 (latest)\n",
      "[LLMHandler][llama.cpp >] print_info: file type   = Q8_0\n",
      "[LLMHandler][llama.cpp >] print_info: file size   = 7.95 GiB (8.50 BPW) \n",
      "[LLMHandler][llama.cpp >] load: special tokens cache size = 256\n",
      "[LLMHandler][llama.cpp >] load: token to piece cache size = 0.8000 MB\n",
      "[LLMHandler][llama.cpp >] print_info: arch             = llama\n",
      "[LLMHandler][llama.cpp >] print_info: vocab_only       = 0\n",
      "[LLMHandler][llama.cpp >] print_info: n_ctx_train      = 8192\n",
      "[LLMHandler][llama.cpp >] print_info: n_embd           = 4096\n",
      "[LLMHandler][llama.cpp >] print_info: n_layer          = 32\n",
      "[LLMHandler][llama.cpp >] print_info: n_head           = 32\n",
      "[LLMHandler][llama.cpp >] print_info: n_head_kv        = 8\n",
      "[LLMHandler][llama.cpp >] print_info: n_rot            = 128\n",
      "[LLMHandler][llama.cpp >] print_info: n_swa            = 0\n",
      "[LLMHandler][llama.cpp >] print_info: n_embd_head_k    = 128\n",
      "[LLMHandler][llama.cpp >] print_info: n_embd_head_v    = 128\n",
      "[LLMHandler][llama.cpp >] print_info: n_gqa            = 4\n",
      "[LLMHandler][llama.cpp >] print_info: n_embd_k_gqa     = 1024\n",
      "[LLMHandler][llama.cpp >] print_info: n_embd_v_gqa     = 1024\n",
      "[LLMHandler][llama.cpp >] print_info: f_norm_eps       = 0.0e+00\n",
      "[LLMHandler][llama.cpp >] print_info: f_norm_rms_eps   = 1.0e-05\n",
      "[LLMHandler][llama.cpp >] print_info: f_clamp_kqv      = 0.0e+00\n",
      "[LLMHandler][llama.cpp >] print_info: f_max_alibi_bias = 0.0e+00\n",
      "[LLMHandler][llama.cpp >] print_info: f_logit_scale    = 0.0e+00\n",
      "[LLMHandler][llama.cpp >] print_info: n_ff             = 14336\n",
      "[LLMHandler][llama.cpp >] print_info: n_expert         = 0\n",
      "[LLMHandler][llama.cpp >] print_info: n_expert_used    = 0\n",
      "[LLMHandler][llama.cpp >] print_info: causal attn      = 1\n",
      "[LLMHandler][llama.cpp >] print_info: pooling type     = 0\n",
      "[LLMHandler][llama.cpp >] print_info: rope type        = 0\n",
      "[LLMHandler][llama.cpp >] print_info: rope scaling     = linear\n",
      "[LLMHandler][llama.cpp >] print_info: freq_base_train  = 500000.0\n",
      "[LLMHandler][llama.cpp >] print_info: freq_scale_train = 1\n",
      "[LLMHandler][llama.cpp >] print_info: n_ctx_orig_yarn  = 8192\n",
      "[LLMHandler][llama.cpp >] print_info: rope_finetuned   = unknown\n",
      "[LLMHandler][llama.cpp >] print_info: ssm_d_conv       = 0\n",
      "[LLMHandler][llama.cpp >] print_info: ssm_d_inner      = 0\n",
      "[LLMHandler][llama.cpp >] print_info: ssm_d_state      = 0\n",
      "[LLMHandler][llama.cpp >] print_info: ssm_dt_rank      = 0\n",
      "[LLMHandler][llama.cpp >] print_info: ssm_dt_b_c_rms   = 0\n",
      "[LLMHandler][llama.cpp >] print_info: model type       = 8B\n",
      "[LLMHandler][llama.cpp >] print_info: model params     = 8.03 B\n",
      "[LLMHandler][llama.cpp >] print_info: general.name     = models\n",
      "[LLMHandler][llama.cpp >] print_info: vocab type       = BPE\n",
      "[LLMHandler][llama.cpp >] print_info: n_vocab          = 128256\n",
      "[LLMHandler][llama.cpp >] print_info: n_merges         = 280147\n",
      "[LLMHandler][llama.cpp >] print_info: BOS token        = 128000 '<|begin_of_text|>'\n",
      "[LLMHandler][llama.cpp >] print_info: EOS token        = 128009 '<|eot_id|>'\n",
      "[LLMHandler][llama.cpp >] print_info: EOT token        = 128009 '<|eot_id|>'\n",
      "[LLMHandler][llama.cpp >] print_info: LF token         = 198 'Ċ'\n",
      "[LLMHandler][llama.cpp >] print_info: EOG token        = 128009 '<|eot_id|>'\n",
      "[LLMHandler][llama.cpp >] print_info: max token length = 256\n",
      "[LLMHandler][llama.cpp >] load_tensors: loading model tensors, this can take a while... (mmap = true)\n",
      "[LLMHandler][llama.cpp >] load_tensors: offloading 16 repeating layers to GPU\n",
      "[LLMHandler][llama.cpp >] load_tensors: offloaded 16/33 layers to GPU\n",
      "[LLMHandler][llama.cpp >] load_tensors:        CUDA0 model buffer size =  3536.50 MiB\n",
      "[LLMHandler][llama.cpp >] load_tensors:   CPU_Mapped model buffer size =  8137.64 MiB\n",
      "[LLMHandler][llama.cpp >] ..........................................................................................\n",
      "[LLMHandler][llama.cpp >] llama_init_from_model: n_seq_max     = 1\n",
      "[LLMHandler][llama.cpp >] llama_init_from_model: n_ctx         = 4096\n",
      "[LLMHandler][llama.cpp >] llama_init_from_model: n_ctx_per_seq = 4096\n",
      "[LLMHandler][llama.cpp >] llama_init_from_model: n_batch       = 2048\n",
      "[LLMHandler][llama.cpp >] llama_init_from_model: n_ubatch      = 512\n",
      "[LLMHandler][llama.cpp >] llama_init_from_model: flash_attn    = 1\n",
      "[LLMHandler][llama.cpp >] llama_init_from_model: freq_base     = 500000.0\n",
      "[LLMHandler][llama.cpp >] llama_init_from_model: freq_scale    = 1\n",
      "[LLMHandler][llama.cpp >] llama_init_from_model: n_ctx_per_seq (4096) < n_ctx_train (8192) -- the full capacity of the model will not be utilized\n",
      "[LLMHandler][llama.cpp >] llama_kv_cache_init: kv_size = 4096, offload = 1, type_k = 'f16', type_v = 'f16', n_layer = 32, can_shift = 1\n",
      "[LLMHandler][llama.cpp >] llama_kv_cache_init:      CUDA0 KV buffer size =   256.00 MiB\n",
      "[LLMHandler][llama.cpp >] llama_kv_cache_init:        CPU KV buffer size =   256.00 MiB\n",
      "[LLMHandler][llama.cpp >] llama_init_from_model: KV self size  =  512.00 MiB, K (f16):  256.00 MiB, V (f16):  256.00 MiB\n",
      "[LLMHandler][llama.cpp >] llama_init_from_model:        CPU  output buffer size =     0.49 MiB\n",
      "[LLMHandler][llama.cpp >] llama_init_from_model:      CUDA0 compute buffer size =   790.81 MiB\n",
      "[LLMHandler][llama.cpp >] llama_init_from_model:  CUDA_Host compute buffer size =    16.01 MiB\n",
      "[LLMHandler][llama.cpp >] llama_init_from_model: graph nodes  = 903\n",
      "[LLMHandler][llama.cpp >] llama_init_from_model: graph splits = 180 (with bs=512), 3 (with bs=1)\n",
      "[LLMHandler][llama.cpp >] common_init_from_params: setting dry_penalty_last_n to ctx_size = 4096\n",
      "[LLMHandler][llama.cpp >] common_init_from_params: warming up the model with an empty run - please wait ... (--no-warmup to disable)\n",
      "[LLMHandler][llama.cpp >] main: llama threadpool init, n_threads = 12\n",
      "[LLMHandler][llama.cpp >] \n",
      "[LLMHandler][llama.cpp >] system_info: n_threads = 12 (n_threads_batch = 12) / 24 | CUDA : ARCHS = 520,610,700,750 | USE_GRAPHS = 1 | PEER_MAX_BATCH_SIZE = 128 | CPU : SSE3 = 1 | SSSE3 = 1 | AVX = 1 | AVX2 = 1 | F16C = 1 | FMA = 1 | LLAMAFILE = 1 | OPENMP = 1 | AARCH64_REPACK = 1 | \n",
      "[LLMHandler][llama.cpp >] \n",
      "[LLMHandler][llama.cpp >] main: interactive mode on.\n",
      "[LLMHandler][llama.cpp >] Input prefix: '>>>'\n",
      "[LLMHandler][llama.cpp >] Input suffix: '<|start_header_id|>assistant<|end_header_id|>\n",
      "[LLMHandler][llama.cpp >] \n",
      "[LLMHandler][llama.cpp >] '\n",
      "[LLMHandler][llama.cpp >] sampler seed: 2859173655\n",
      "[LLMHandler][llama.cpp >] sampler params: \n",
      "[LLMHandler][llama.cpp >] \trepeat_last_n = 64, repeat_penalty = 1.000, frequency_penalty = 0.000, presence_penalty = 0.000\n",
      "[LLMHandler][llama.cpp >] \tdry_multiplier = 0.000, dry_base = 1.750, dry_allowed_length = 2, dry_penalty_last_n = 4096\n",
      "[LLMHandler][llama.cpp >] \ttop_k = 40, top_p = 0.950, min_p = 0.050, xtc_probability = 0.000, xtc_threshold = 0.100, typical_p = 1.000, temp = 0.000\n",
      "[LLMHandler][llama.cpp >] \tmirostat = 0, mirostat_lr = 0.100, mirostat_ent = 5.000\n",
      "[LLMHandler][llama.cpp >] sampler chain: logits -> logit-bias -> penalties -> dry -> top-k -> typical -> top-p -> min-p -> xtc -> temp-ext -> dist \n",
      "[LLMHandler][llama.cpp >] generate: n_ctx = 4096, n_batch = 2048, n_predict = -1, n_keep = 219\n",
      "[LLMHandler][llama.cpp >] \n",
      "[LLMHandler][llama.cpp >] == Running in interactive mode. ==\n"
     ]
    }
   ],
   "source": [
    "model_name = 'llama-3-sqlcoder-8b-Q8_0'\n",
    "db_config = {\n",
    "    \"host\": \"192.168.1.141\",\n",
    "    \"port\": 5433,\n",
    "    \"database\": \"sandoz\",\n",
    "    \"user\": \"postgres\",\n",
    "    \"password\": \"postgres\"\n",
    "}\n",
    "\n",
    "# Inicializar otros componentes\n",
    "sql_generator = SQLQueryGenerator(\n",
    "    model_name=model_name,\n",
    "    db_config=db_config,\n",
    "    max_attempts=3\n",
    ")"
   ]
  },
  {
   "cell_type": "code",
   "execution_count": 3,
   "metadata": {},
   "outputs": [],
   "source": [
    "user_input = \"How many years of historical data do we have available for Spain?\""
   ]
  },
  {
   "cell_type": "code",
   "execution_count": 4,
   "metadata": {},
   "outputs": [
    {
     "name": "stderr",
     "output_type": "stream",
     "text": [
      "Batches: 100%|██████████| 1/1 [00:00<00:00,  3.30it/s]\n"
     ]
    },
    {
     "name": "stdout",
     "output_type": "stream",
     "text": [
      "[]\n",
      "[PromptTemplate] Loading prompt file...\n",
      "[PromptTemplate] Prompt rendered: How many years of historical data do we have available for Spain?\n",
      "\n",
      "\n",
      "\n",
      "[LLMHandler] Enviando prompt:\n",
      " <|start_header_id|>user<|end_header_id|> How many years of historical data do we have available for Spain?<|eot_id|>\n",
      "<|start_header_id|>user<|end_header_id|> How many years of historical data do we have available for Spain?<|eot_id|>\n",
      "\\\n",
      "\n",
      "[LLMHandler][llama.cpp >]  - Press Ctrl+C to interject at any time.\n",
      "[LLMHandler][llama.cpp >]  - To return control to the AI, end your input with '\\'.\n",
      "[LLMHandler][llama.cpp >]  - To return control without starting a new line, end your input with '/'.\n",
      "[LLMHandler][llama.cpp >] \n",
      "[LLMHandler][llama.cpp >] <|begin_of_text|><|start_header_id|>system<|end_header_id|> You are an expert in SQL Query. Your Task consists of translating/transforming the users question into an SQL query.\n",
      "[LLMHandler][llama.cpp >] \n",
      "[LLMHandler][llama.cpp >] The query will run on a database with the following schema:\n",
      "[LLMHandler][llama.cpp >] TABLE: market_mapping\n",
      "[LLMHandler][llama.cpp >]   - market: character varying, example 'DE'\n",
      "[LLMHandler][llama.cpp >]   - market_des: character varying, example 'GERMANY'\n",
      "[LLMHandler][llama.cpp >]   - cluster: character varying, example 'GERMANY'\n",
      "[LLMHandler][llama.cpp >]   - region: character varying, example 'EUROPE'\n",
      "[LLMHandler][llama.cpp >] TABLE: monthly_balance\n",
      "[LLMHandler][llama.cpp >]   - month: character varying, example '202101'\n",
      "[LLMHandler][llama.cpp >]   - market: character varying, example 'ES'\n",
      "[LLMHandler][llama.cpp >]   - bu: character varying, example 'GN_BP'\n",
      "[LLMHandler][llama.cpp >]   - volume: double precision, example '693063.0'\n",
      "[LLMHandler][llama.cpp >]   - value: double precision, example '716445.67'\n",
      "[LLMHandler][llama.cpp >] TABLE: monthly_lo\n",
      "[LLMHandler][llama.cpp >]   - month: character varying, example '202101'\n",
      "[LLMHandler][llama.cpp >]   - market: character varying, example 'ES'\n",
      "[LLMHandler][llama.cpp >]   - bu: character varying, example 'GN_BP'\n",
      "[LLMHandler][llama.cpp >]   - value: double precision, example '547834.96'<|eot_id|>\n",
      "[LLMHandler][llama.cpp >] \n",
      "[LLMHandler][llama.cpp >] >>><|start_header_id|>user<|end_header_id|> How many years of historical data do we have available for Spain?<|eot_id|>\n",
      "[LLMHandler][llama.cpp >] \n",
      "[LLMHandler][llama.cpp >] <|start_header_id|>assistant<|end_header_id|>\n",
      "[LLMHandler][llama.cpp >] \n",
      "[LLMHandler][llama.cpp >] SELECT COUNT(DISTINCT EXTRACT(YEAR FROM TO_DATE(m.month, 'YYYYMM'))) AS years_of_data FROM monthly_balance m WHERE m.market = 'ES';<|eot_id|>\n",
      "[WARN][LLMHandler][llama.cpp >] Timeout waiting for 'user' turn.\n",
      "SELECT COUNT(DISTINCT EXTRACT(YEAR FROM TO_DATE(m.month, 'YYYYMM'))) AS years_of_data FROM monthly_balance m WHERE m.market = 'ES';<|eot_id|>\n"
     ]
    }
   ],
   "source": [
    "query = sql_generator.generate_sql_query(user_input)"
   ]
  },
  {
   "cell_type": "code",
   "execution_count": null,
   "metadata": {},
   "outputs": [],
   "source": [
    "user_input = \"How many years of historical data do we have available for the south cluster of Europe?\""
   ]
  },
  {
   "cell_type": "code",
   "execution_count": 8,
   "metadata": {},
   "outputs": [
    {
     "name": "stderr",
     "output_type": "stream",
     "text": [
      "Batches: 100%|██████████| 1/1 [00:00<00:00, 22.31it/s]\n"
     ]
    },
    {
     "name": "stdout",
     "output_type": "stream",
     "text": [
      "[]\n",
      "[PromptTemplate] Loading prompt file...\n",
      "[PromptTemplate] Prompt rendered: How many years of historical data do we have available for the south cluster of Europe?\n",
      "\n",
      "\n",
      "\n",
      "[LLMHandler] Enviando prompt:\n",
      " <|start_header_id|>user<|end_header_id|> How many years of historical data do we have available for the south cluster of Europe?<|eot_id|>\n",
      "<|start_header_id|>user<|end_header_id|> How many years of historical data do we have available for the south cluster of Europe?<|eot_id|>\n",
      "\\\n",
      "\n",
      "[LLMHandler][llama.cpp >] >>><|start_header_id|>user<|end_header_id|> How many years of historical data do we have available for the south cluster of Europe?<|eot_id|>\n",
      "[LLMHandler][llama.cpp >] \n",
      "[LLMHandler][llama.cpp >] <|start_header_id|>assistant<|end_header_id|>\n",
      "[LLMHandler][llama.cpp >] \n",
      "[LLMHandler][llama.cpp >] SELECT COUNT(DISTINCT EXTRACT(YEAR FROM TO_DATE(m.month, 'YYYYMM'))) AS years_of_data FROM monthly_balance m JOIN market_mapping mm ON m.market = mm.market WHERE LOWER(mm.cluster) = 'south' AND LOWER(mm.region) = 'europe';<|eot_id|>\n",
      "[WARN][LLMHandler][llama.cpp >] Timeout waiting for 'user' turn.\n",
      "SELECT COUNT(DISTINCT EXTRACT(YEAR FROM TO_DATE(m.month, 'YYYYMM'))) AS years_of_data FROM monthly_balance m JOIN market_mapping mm ON m.market = mm.market WHERE LOWER(mm.cluster) = 'south' AND LOWER(mm.region) = 'europe';<|eot_id|>\n",
      "SELECT COUNT(DISTINCT EXTRACT(YEAR FROM TO_DATE(m.month, 'YYYYMM'))) AS years_of_data FROM monthly_balance m JOIN market_mapping mm ON m.market = mm.market WHERE LOWER(mm.cluster) = 'south' AND LOWER(mm.region) = 'europe';<|eot_id|>\n"
     ]
    }
   ],
   "source": [
    "query = sql_generator.generate_sql_query(user_input)\n",
    "\n",
    "print(query)"
   ]
  },
  {
   "cell_type": "code",
   "execution_count": 9,
   "metadata": {},
   "outputs": [
    {
     "name": "stderr",
     "output_type": "stream",
     "text": [
      "Batches: 100%|██████████| 1/1 [00:00<00:00, 30.04it/s]\n"
     ]
    },
    {
     "name": "stdout",
     "output_type": "stream",
     "text": [
      "[]\n",
      "[PromptTemplate] Loading prompt file...\n",
      "[PromptTemplate] Prompt rendered: What were the sales in the spanish market 2 years ago?\n",
      "\n",
      "\n",
      "\n",
      "[LLMHandler] Enviando prompt:\n",
      " <|start_header_id|>user<|end_header_id|> What were the sales in the spanish market 2 years ago?<|eot_id|>\n",
      "<|start_header_id|>user<|end_header_id|> What were the sales in the spanish market 2 years ago?<|eot_id|>\n",
      "\\\n",
      "\n",
      "[LLMHandler][llama.cpp >] >>><|start_header_id|>user<|end_header_id|> What were the sales in the spanish market 2 years ago?<|eot_id|>\n",
      "[LLMHandler][llama.cpp >] \n",
      "[LLMHandler][llama.cpp >] <|start_header_id|>assistant<|end_header_id|>\n",
      "[LLMHandler][llama.cpp >] \n",
      "[LLMHandler][llama.cpp >] SELECT SUM(m.value) AS total_sales FROM monthly_balance m WHERE m.market = 'ES' AND EXTRACT(YEAR FROM TO_DATE(m.month, 'YYYYMM')) = EXTRACT(YEAR FROM CURRENT_DATE) - 2;<|eot_id|>\n",
      "[WARN][LLMHandler][llama.cpp >] Timeout waiting for 'user' turn.\n",
      "SELECT SUM(m.value) AS total_sales FROM monthly_balance m WHERE m.market = 'ES' AND EXTRACT(YEAR FROM TO_DATE(m.month, 'YYYYMM')) = EXTRACT(YEAR FROM CURRENT_DATE) - 2;<|eot_id|>\n",
      "SELECT SUM(m.value) AS total_sales FROM monthly_balance m WHERE m.market = 'ES' AND EXTRACT(YEAR FROM TO_DATE(m.month, 'YYYYMM')) = EXTRACT(YEAR FROM CURRENT_DATE) - 2;<|eot_id|>\n"
     ]
    }
   ],
   "source": [
    "user_input = \"What were the sales in the spanish market 2 years ago?\"\n",
    "query = sql_generator.generate_sql_query(user_input)\n",
    "\n",
    "print(query)"
   ]
  }
 ],
 "metadata": {
  "kernelspec": {
   "display_name": "Python 3",
   "language": "python",
   "name": "python3"
  },
  "language_info": {
   "codemirror_mode": {
    "name": "ipython",
    "version": 3
   },
   "file_extension": ".py",
   "mimetype": "text/x-python",
   "name": "python",
   "nbconvert_exporter": "python",
   "pygments_lexer": "ipython3",
   "version": "3.12.9"
  }
 },
 "nbformat": 4,
 "nbformat_minor": 2
}
