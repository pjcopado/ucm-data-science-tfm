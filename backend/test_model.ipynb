{
 "cells": [
  {
   "cell_type": "code",
   "execution_count": 26,
   "metadata": {},
   "outputs": [],
   "source": [
    "%autoawait asyncio"
   ]
  },
  {
   "cell_type": "code",
   "execution_count": 27,
   "metadata": {},
   "outputs": [],
   "source": [
    "# ! pip install nest_asyncio\n",
    "\n",
    "# import asyncio\n",
    "import nest_asyncio\n",
    "nest_asyncio.apply()"
   ]
  },
  {
   "cell_type": "code",
   "execution_count": null,
   "metadata": {},
   "outputs": [],
   "source": [
    "# import asyncio\n",
    "# asyncio.set_event_loop(asyncio.new_event_loop())"
   ]
  },
  {
   "cell_type": "code",
   "execution_count": null,
   "metadata": {},
   "outputs": [],
   "source": [
    "# ! pip install --upgrade pip\n",
    "# ! pip install 'pydantic-ai[logfire, openai]'\n",
    "# ! pip install pydantic"
   ]
  },
  {
   "cell_type": "code",
   "execution_count": null,
   "metadata": {},
   "outputs": [],
   "source": [
    "# install ollama\n",
    "# ! curl -fsSL https://ollama.com/install.sh | sh\n",
    "\n",
    "# esto inicia el servicio automaticamente, para detenerlo poner\n",
    "# ! systemctl stop ollama"
   ]
  },
  {
   "cell_type": "code",
   "execution_count": null,
   "metadata": {},
   "outputs": [],
   "source": [
    "# para iniciar el servicio y ver los logs\n",
    "# ! ollama serve\n",
    "\n",
    "# para descargar un modelo\n",
    "# ! ollama pull llama3.2:1b\n",
    "\n",
    "# para correr un modelo (debe estar el servicio on)\n",
    "# ! ollama run llama3.2:1b"
   ]
  },
  {
   "cell_type": "code",
   "execution_count": 28,
   "metadata": {},
   "outputs": [],
   "source": [
    "from pydantic import BaseModel\n",
    "\n",
    "from pydantic_ai import Agent\n",
    "\n",
    "MODEL = 'ollama:llama3.2:1b'\n",
    "\n",
    "class CityLocation(BaseModel):\n",
    "    city: str\n",
    "    country: str\n",
    "\n",
    "\n",
    "agent = Agent(MODEL, result_type=CityLocation)"
   ]
  },
  {
   "cell_type": "code",
   "execution_count": null,
   "metadata": {},
   "outputs": [],
   "source": [
    "result = agent.run_sync('Where were the olympics held in 2012?')"
   ]
  },
  {
   "cell_type": "code",
   "execution_count": 30,
   "metadata": {},
   "outputs": [
    {
     "data": {
      "text/plain": [
       "RunResult(_all_messages=[ModelRequest(parts=[UserPromptPart(content='Where were the olympics held in 2012?', timestamp=datetime.datetime(2025, 1, 7, 23, 22, 28, 22215, tzinfo=datetime.timezone.utc), part_kind='user-prompt')], kind='request'), ModelResponse(parts=[TextPart(content='', part_kind='text'), ToolCallPart(tool_name='final_result', args=ArgsJson(args_json='{\"city\":\"London\",\"country\":\"United Kingdom\"}'), tool_call_id='call_apzvbxkr', part_kind='tool-call')], timestamp=datetime.datetime(2025, 1, 7, 23, 22, 29, tzinfo=datetime.timezone.utc), kind='response'), ModelRequest(parts=[ToolReturnPart(tool_name='final_result', content='Final result processed.', tool_call_id='call_apzvbxkr', timestamp=datetime.datetime(2025, 1, 7, 23, 22, 29, 85424, tzinfo=datetime.timezone.utc), part_kind='tool-return')], kind='request')], _new_message_index=0, data=CityLocation(city='London', country='United Kingdom'), _result_tool_name='final_result', _usage=Usage(requests=1, request_tokens=176, response_tokens=27, total_tokens=203, details=None))"
      ]
     },
     "execution_count": 30,
     "metadata": {},
     "output_type": "execute_result"
    }
   ],
   "source": [
    "result"
   ]
  },
  {
   "cell_type": "code",
   "execution_count": 31,
   "metadata": {},
   "outputs": [
    {
     "data": {
      "text/plain": [
       "CityLocation(city='London', country='United Kingdom')"
      ]
     },
     "execution_count": 31,
     "metadata": {},
     "output_type": "execute_result"
    }
   ],
   "source": [
    "result.data"
   ]
  },
  {
   "cell_type": "code",
   "execution_count": null,
   "metadata": {},
   "outputs": [],
   "source": []
  }
 ],
 "metadata": {
  "kernelspec": {
   "display_name": ".venv",
   "language": "python",
   "name": "python3"
  },
  "language_info": {
   "codemirror_mode": {
    "name": "ipython",
    "version": 3
   },
   "file_extension": ".py",
   "mimetype": "text/x-python",
   "name": "python",
   "nbconvert_exporter": "python",
   "pygments_lexer": "ipython3",
   "version": "3.12.8"
  }
 },
 "nbformat": 4,
 "nbformat_minor": 2
}
